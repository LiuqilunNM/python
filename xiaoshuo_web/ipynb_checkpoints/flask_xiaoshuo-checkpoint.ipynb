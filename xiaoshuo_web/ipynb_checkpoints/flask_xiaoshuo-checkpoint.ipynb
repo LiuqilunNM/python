{
 "cells": [
  {
   "cell_type": "code",
   "execution_count": 1,
   "metadata": {},
   "outputs": [
    {
     "name": "stderr",
     "output_type": "stream",
     "text": [
      "C:\\Users\\23825\\Anaconda3\\lib\\site-packages\\ipykernel\\parentpoller.py:116: UserWarning: Parent poll failed.  If the frontend dies,\n",
      "                the kernel may be left running.  Please let us know\n",
      "                about your system (bitness, Python, etc.) at\n",
      "                ipython-dev@scipy.org\n",
      "  ipython-dev@scipy.org\"\"\")\n"
     ]
    },
    {
     "ename": "SyntaxError",
     "evalue": "invalid syntax (<ipython-input-1-020e03dc2a2d>, line 25)",
     "output_type": "error",
     "traceback": [
      "\u001b[1;36m  File \u001b[1;32m\"<ipython-input-1-020e03dc2a2d>\"\u001b[1;36m, line \u001b[1;32m25\u001b[0m\n\u001b[1;33m    host=http://chfw.github.io/jupyter-echarts/echarts,\u001b[0m\n\u001b[1;37m             ^\u001b[0m\n\u001b[1;31mSyntaxError\u001b[0m\u001b[1;31m:\u001b[0m invalid syntax\n"
     ]
    }
   ],
   "source": [
    "import pandas as pd\n",
    "\n",
    "from flask import Flask, render_template\n",
    "\n",
    "from pyecharts import options as opts\n",
    "from pyecharts.charts import Bar\n",
    "from pyecharts.charts import Timeline\n",
    "from pyecharts.charts import Pie\n",
    "\n",
    "app = Flask(__name__)\n",
    "\n",
    "\n",
    "data总=pd.read_csv('datazong.csv',encoding='utf-8')\n",
    "\n",
    "zuojia = pd.read_csv('zuojia.csv',encoding='gbk')\n",
    "X轴=[str(x) for x in zuojia.loc[:,'网络作家']]\n",
    "Y轴=[str(x) for x in zuojia.loc[:,'版税收入（万元）']]\n",
    "\n",
    "\n",
    "@app.route(\"/\")\n",
    "def hello():\n",
    "    tl = bar_datazoom_inside()\n",
    "    return render_template('pyecharts.html',\n",
    "                           myechart=tl.dump_options(),\n",
    "                           host='http://chfw.github.io/jupyter-echarts/echarts',\n",
    "                           script_list=tl.get_js_dependencies())\n",
    "\n",
    "\n",
    "def bar_datazoom_inside() -> Timeline:\n",
    "    tl = Timeline()\n",
    "    for i in range(2014, 2020):\n",
    "        c = (\n",
    "            Bar()\n",
    "            .add_xaxis(list(zip(list(data总.index))))\n",
    "            .add_yaxis(list(data总[\"{}\".format(i)]))\n",
    "            .set_global_opts(\n",
    "                title_opts=opts.TitleOpts(title=\"纵横小说月票榜\"),\n",
    "                datazoom_opts=opts.DataZoomOpts(type_=\"inside\"),\n",
    "                visualmap_opts=opts.VisualMapOpts(type_=\"color\", max_=250000, min_=200,pos_right='20',pos_top='middle'),\n",
    "            )\n",
    "            .set_series_opts(\n",
    "            label_opts=opts.LabelOpts(is_show=False),\n",
    "            markpoint_opts=opts.MarkPointOpts(\n",
    "                data=[\n",
    "                    opts.MarkPointItem(type_=\"max\", name=\"最大值\"),\n",
    "                    opts.MarkPointItem(type_=\"min\", name=\"最小值\"),\n",
    "                ]\n",
    "            ),\n",
    "        )\n",
    "    )\n",
    "        tl.add(c, \"{}年\".format(i))\n",
    "    return tl\n",
    "\n",
    "\n",
    "if __name__ == \"__main__\":\n",
    "    app.run()"
   ]
  },
  {
   "cell_type": "code",
   "execution_count": null,
   "metadata": {},
   "outputs": [],
   "source": []
  }
 ],
 "metadata": {
  "kernelspec": {
   "display_name": "Python 3",
   "language": "python",
   "name": "python3"
  }
 },
 "nbformat": 4,
 "nbformat_minor": 2
}
