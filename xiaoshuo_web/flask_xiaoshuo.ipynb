{
 "cells": [
  {
   "cell_type": "code",
   "execution_count": null,
   "metadata": {},
   "outputs": [
    {
     "name": "stdout",
     "output_type": "stream",
     "text": [
      " * Serving Flask app \"__main__\" (lazy loading)\n",
      " * Environment: production\n",
      "   WARNING: This is a development server. Do not use it in a production deployment.\n",
      "   Use a production WSGI server instead.\n",
      " * Debug mode: off\n"
     ]
    },
    {
     "name": "stderr",
     "output_type": "stream",
     "text": [
      " * Running on http://127.0.0.1:5000/ (Press CTRL+C to quit)\n",
      "[2019-12-31 01:59:40,536] ERROR in app: Exception on / [GET]\n",
      "Traceback (most recent call last):\n",
      "  File \"C:\\Users\\86187\\Anaconda3\\lib\\site-packages\\flask\\app.py\", line 2446, in wsgi_app\n",
      "    response = self.full_dispatch_request()\n",
      "  File \"C:\\Users\\86187\\Anaconda3\\lib\\site-packages\\flask\\app.py\", line 1951, in full_dispatch_request\n",
      "    rv = self.handle_user_exception(e)\n",
      "  File \"C:\\Users\\86187\\Anaconda3\\lib\\site-packages\\flask\\app.py\", line 1820, in handle_user_exception\n",
      "    reraise(exc_type, exc_value, tb)\n",
      "  File \"C:\\Users\\86187\\Anaconda3\\lib\\site-packages\\flask\\_compat.py\", line 39, in reraise\n",
      "    raise value\n",
      "  File \"C:\\Users\\86187\\Anaconda3\\lib\\site-packages\\flask\\app.py\", line 1949, in full_dispatch_request\n",
      "    rv = self.dispatch_request()\n",
      "  File \"C:\\Users\\86187\\Anaconda3\\lib\\site-packages\\flask\\app.py\", line 1935, in dispatch_request\n",
      "    return self.view_functions[rule.endpoint](**req.view_args)\n",
      "  File \"<ipython-input-1-677d7ea4d063>\", line 18, in hello\n",
      "    tl = bar_datazoom_inside()\n",
      "  File \"<ipython-input-1-677d7ea4d063>\", line 31, in bar_datazoom_inside\n",
      "    .add_yaxis(list(data总[\"{}\".format(i)]))\n",
      "TypeError: add_yaxis() missing 1 required positional argument: 'yaxis_data'\n",
      "127.0.0.1 - - [31/Dec/2019 01:59:40] \"GET / HTTP/1.1\" 500 -\n",
      "127.0.0.1 - - [31/Dec/2019 01:59:40] \"GET /favicon.ico HTTP/1.1\" 404 -\n"
     ]
    }
   ],
   "source": [
    "import pandas as pd\n",
    "\n",
    "from flask import Flask, render_template\n",
    "\n",
    "from pyecharts import options as opts\n",
    "from pyecharts.charts import Bar\n",
    "from pyecharts.charts import Timeline\n",
    "from pyecharts.charts import Pie\n",
    "\n",
    "app = Flask(__name__)\n",
    "\n",
    "\n",
    "data总=pd.read_csv('datazong.csv',encoding='utf-8')\n",
    "\n",
    "\n",
    "@app.route(\"/\")\n",
    "def hello():\n",
    "    tl = bar_datazoom_inside()\n",
    "    return render_template('pyecharts.html',\n",
    "                           myechart=tl.dump_options_with_quotes(),\n",
    "                           host='http://chfw.github.io/jupyter-echarts/echarts',\n",
    "                           script_list=tl.get_js_dependencies())\n",
    "\n",
    "\n",
    "def bar_datazoom_inside() -> Timeline:\n",
    "    tl = Timeline()\n",
    "    for i in range(2014, 2020):\n",
    "        c = (\n",
    "            Bar()\n",
    "            .add_xaxis(list(zip(list(data总.index))))\n",
    "            .add_yaxis(list(data总[\"{}\".format(i)]))\n",
    "            .set_global_opts(\n",
    "                title_opts=opts.TitleOpts(title=\"纵横小说月票榜\"),\n",
    "                datazoom_opts=opts.DataZoomOpts(type_=\"inside\"),\n",
    "                visualmap_opts=opts.VisualMapOpts(type_=\"color\", max_=250000, min_=200,pos_right='20',pos_top='middle'),\n",
    "            )\n",
    "            .set_series_opts(\n",
    "            label_opts=opts.LabelOpts(is_show=False),\n",
    "            markpoint_opts=opts.MarkPointOpts(\n",
    "                data=[\n",
    "                    opts.MarkPointItem(type_=\"max\", name=\"最大值\"),\n",
    "                    opts.MarkPointItem(type_=\"min\", name=\"最小值\"),\n",
    "                ]\n",
    "            ),\n",
    "        )\n",
    "    )\n",
    "        tl.add(c, \"{}年\".format(i))\n",
    "    return tl\n",
    "\n",
    "\n",
    "if __name__ == \"__main__\":\n",
    "    app.run()"
   ]
  },
  {
   "cell_type": "code",
   "execution_count": null,
   "metadata": {},
   "outputs": [],
   "source": []
  }
 ],
 "metadata": {
  "kernelspec": {
   "display_name": "Python 3",
   "language": "python",
   "name": "python3"
  },
  "language_info": {
   "codemirror_mode": {
    "name": "ipython",
    "version": 3
   },
   "file_extension": ".py",
   "mimetype": "text/x-python",
   "name": "python",
   "nbconvert_exporter": "python",
   "pygments_lexer": "ipython3",
   "version": "3.7.3"
  }
 },
 "nbformat": 4,
 "nbformat_minor": 2
}
